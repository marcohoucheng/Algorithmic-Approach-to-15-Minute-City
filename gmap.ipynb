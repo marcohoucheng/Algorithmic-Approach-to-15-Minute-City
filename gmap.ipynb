{
 "cells": [
  {
   "cell_type": "code",
   "execution_count": null,
   "metadata": {},
   "outputs": [],
   "source": [
    "import googlemaps\n",
    "import networkx as nx\n",
    "\n",
    "# Initialize Google Maps client\n",
    "gmaps = googlemaps.Client(key='Your-API-Key')\n",
    "\n",
    "# Get locations of services\n",
    "supermarkets = gmaps.places('supermarket', location='city center coordinates', radius=5000)\n",
    "pharmacies = gmaps.places('pharmacy', location='city center coordinates', radius=5000)\n",
    "hospitals = gmaps.places('hospital', location='city center coordinates', radius=5000)\n",
    "\n",
    "# Initialize graph\n",
    "G = nx.Graph()\n",
    "\n",
    "# Add nodes and edges to the graph\n",
    "for place in supermarkets['results']:\n",
    "    # Assume each place has 'geometry' with 'location' containing 'lat' and 'lng'\n",
    "    G.add_node(place['name'], pos=(place['geometry']['location']['lat'], place['geometry']['location']['lng']))\n",
    "\n",
    "# Assume we have a function to calculate street length\n",
    "def calculate_street_length(coord1, coord2):\n",
    "    # Implement street length calculation\n",
    "    pass\n",
    "\n",
    "# Add edges with calculated street lengths as weights\n",
    "G.add_edge('supermarket1', 'supermarket2', weight=calculate_street_length(coord1, coord2))\n",
    "\n",
    "# ... continue adding nodes and edges\n"
   ]
  },
  {
   "cell_type": "code",
   "execution_count": null,
   "metadata": {},
   "outputs": [],
   "source": [
    "\n"
   ]
  }
 ],
 "metadata": {
  "language_info": {
   "name": "python"
  }
 },
 "nbformat": 4,
 "nbformat_minor": 2
}
