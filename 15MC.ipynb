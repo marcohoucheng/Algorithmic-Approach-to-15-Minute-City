{
 "cells": [
  {
   "cell_type": "code",
   "execution_count": 91,
   "metadata": {},
   "outputs": [],
   "source": [
    "import pandas as pd\n",
    "import networkx as nx\n",
    "import heapq"
   ]
  },
  {
   "cell_type": "code",
   "execution_count": 111,
   "metadata": {},
   "outputs": [],
   "source": [
    "def custom_dijkstra(G, source, threshold):\n",
    "    # Initialize distances and visited set\n",
    "    distances = {node: float('inf') for node in G.nodes}\n",
    "    distances[source] = 0\n",
    "    visited = set()\n",
    "\n",
    "    # Priority queue (heap) to store nodes and their distances\n",
    "    pq = [(0, source)]\n",
    "\n",
    "    while pq:\n",
    "        current_distance, current_node = heapq.heappop(pq)\n",
    "\n",
    "        # Stop if all nodes within 15 have been visited\n",
    "        if current_distance > threshold:\n",
    "            break\n",
    "\n",
    "        if current_node not in visited:\n",
    "            visited.add(current_node)\n",
    "\n",
    "        for neighbor, edge_data in G[current_node].items():\n",
    "            weight = edge_data[0]['weight']\n",
    "            new_distance = current_distance + weight\n",
    "            if new_distance < distances[neighbor]:\n",
    "                distances[neighbor] = new_distance\n",
    "                heapq.heappush(pq, (new_distance, neighbor))\n",
    "\n",
    "    return visited"
   ]
  },
  {
   "cell_type": "markdown",
   "metadata": {},
   "source": [
    "https://geoffboeing.com/2016/11/osmnx-python-street-networks/"
   ]
  },
  {
   "cell_type": "markdown",
   "metadata": {},
   "source": [
    "I have 2 csv files 'edges' and 'nodes' where edges contain IDs for 'source' and 'target' and also 'weight'. nodes contains the 'id' and also 'label' which could be a string or is empty.\n",
    "\n",
    "I want to load this into Python in a graph data structure with networkx as a MultiGraph which is undirected. I then want to run Dijkstra from each node with a non-empty label and stop once all edges within weight of 15 have been searched from the source nodes."
   ]
  },
  {
   "cell_type": "code",
   "execution_count": 112,
   "metadata": {},
   "outputs": [],
   "source": [
    "# Read the data from the file\n",
    "nodes = pd.read_csv('./min_city/data/nodes.csv',keep_default_na=False)\n",
    "edges = pd.read_csv('./min_city/data/edges.csv')"
   ]
  },
  {
   "cell_type": "code",
   "execution_count": 113,
   "metadata": {},
   "outputs": [],
   "source": [
    "# set of unique service\n",
    "labels = nodes['label'].unique().tolist()\n",
    "labels = [x for x in labels if len(x) > 0]"
   ]
  },
  {
   "cell_type": "code",
   "execution_count": 116,
   "metadata": {},
   "outputs": [
    {
     "data": {
      "text/plain": [
       "['cafe']"
      ]
     },
     "execution_count": 116,
     "metadata": {},
     "output_type": "execute_result"
    }
   ],
   "source": [
    "labels"
   ]
  },
  {
   "cell_type": "code",
   "execution_count": 114,
   "metadata": {},
   "outputs": [],
   "source": [
    "# Create a MultiGraph from the edges DataFrame\n",
    "G = nx.from_pandas_edgelist(edges, source='source', target='target', edge_attr='weight', create_using=nx.MultiGraph())"
   ]
  },
  {
   "cell_type": "code",
   "execution_count": 77,
   "metadata": {},
   "outputs": [],
   "source": [
    "# Filter nodes with non-empty labels\n",
    "labeled_nodes = nodes[nodes['label'] == labels[0]]"
   ]
  },
  {
   "cell_type": "code",
   "execution_count": 78,
   "metadata": {},
   "outputs": [
    {
     "data": {
      "text/html": [
       "<div>\n",
       "<style scoped>\n",
       "    .dataframe tbody tr th:only-of-type {\n",
       "        vertical-align: middle;\n",
       "    }\n",
       "\n",
       "    .dataframe tbody tr th {\n",
       "        vertical-align: top;\n",
       "    }\n",
       "\n",
       "    .dataframe thead th {\n",
       "        text-align: right;\n",
       "    }\n",
       "</style>\n",
       "<table border=\"1\" class=\"dataframe\">\n",
       "  <thead>\n",
       "    <tr style=\"text-align: right;\">\n",
       "      <th></th>\n",
       "      <th>id</th>\n",
       "      <th>label</th>\n",
       "    </tr>\n",
       "  </thead>\n",
       "  <tbody>\n",
       "    <tr>\n",
       "      <th>4</th>\n",
       "      <td>4</td>\n",
       "      <td>cafe</td>\n",
       "    </tr>\n",
       "    <tr>\n",
       "      <th>6</th>\n",
       "      <td>6</td>\n",
       "      <td>cafe</td>\n",
       "    </tr>\n",
       "    <tr>\n",
       "      <th>7</th>\n",
       "      <td>7</td>\n",
       "      <td>cafe</td>\n",
       "    </tr>\n",
       "    <tr>\n",
       "      <th>23</th>\n",
       "      <td>23</td>\n",
       "      <td>cafe</td>\n",
       "    </tr>\n",
       "    <tr>\n",
       "      <th>25</th>\n",
       "      <td>25</td>\n",
       "      <td>cafe</td>\n",
       "    </tr>\n",
       "    <tr>\n",
       "      <th>26</th>\n",
       "      <td>26</td>\n",
       "      <td>cafe</td>\n",
       "    </tr>\n",
       "    <tr>\n",
       "      <th>27</th>\n",
       "      <td>27</td>\n",
       "      <td>cafe</td>\n",
       "    </tr>\n",
       "    <tr>\n",
       "      <th>28</th>\n",
       "      <td>28</td>\n",
       "      <td>cafe</td>\n",
       "    </tr>\n",
       "    <tr>\n",
       "      <th>29</th>\n",
       "      <td>29</td>\n",
       "      <td>cafe</td>\n",
       "    </tr>\n",
       "    <tr>\n",
       "      <th>32</th>\n",
       "      <td>32</td>\n",
       "      <td>cafe</td>\n",
       "    </tr>\n",
       "    <tr>\n",
       "      <th>33</th>\n",
       "      <td>33</td>\n",
       "      <td>cafe</td>\n",
       "    </tr>\n",
       "  </tbody>\n",
       "</table>\n",
       "</div>"
      ],
      "text/plain": [
       "    id label\n",
       "4    4  cafe\n",
       "6    6  cafe\n",
       "7    7  cafe\n",
       "23  23  cafe\n",
       "25  25  cafe\n",
       "26  26  cafe\n",
       "27  27  cafe\n",
       "28  28  cafe\n",
       "29  29  cafe\n",
       "32  32  cafe\n",
       "33  33  cafe"
      ]
     },
     "execution_count": 78,
     "metadata": {},
     "output_type": "execute_result"
    }
   ],
   "source": [
    "labeled_nodes"
   ]
  },
  {
   "cell_type": "code",
   "execution_count": 119,
   "metadata": {},
   "outputs": [],
   "source": [
    "FMC = set(G.nodes())\n",
    "for idx, type in enumerate(labels):\n",
    "    new_node_id = max(G.nodes) + idx + 1\n",
    "    G.add_node(new_node_id) # create new node\n",
    "    G.add_weighted_edges_from([(new_node_id, node, 0) for node in labeled_nodes['id']])\n",
    "    FMC_tmp = custom_dijkstra(G, new_node_id, 15*10**6)\n",
    "    G.remove_node(new_node_id)\n",
    "    FMC = FMC.intersection(FMC_tmp)"
   ]
  },
  {
   "cell_type": "code",
   "execution_count": 120,
   "metadata": {},
   "outputs": [
    {
     "data": {
      "text/plain": [
       "{4, 6, 7, 23, 25, 26, 27, 28, 29, 32, 33}"
      ]
     },
     "execution_count": 120,
     "metadata": {},
     "output_type": "execute_result"
    }
   ],
   "source": [
    "FMC"
   ]
  }
 ],
 "metadata": {
  "kernelspec": {
   "display_name": "Python 3",
   "language": "python",
   "name": "python3"
  },
  "language_info": {
   "codemirror_mode": {
    "name": "ipython",
    "version": 3
   },
   "file_extension": ".py",
   "mimetype": "text/x-python",
   "name": "python",
   "nbconvert_exporter": "python",
   "pygments_lexer": "ipython3",
   "version": "3.12.0"
  }
 },
 "nbformat": 4,
 "nbformat_minor": 2
}
