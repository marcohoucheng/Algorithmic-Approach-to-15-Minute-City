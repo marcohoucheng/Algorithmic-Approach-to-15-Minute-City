{
 "cells": [
  {
   "cell_type": "code",
   "execution_count": 5,
   "metadata": {},
   "outputs": [
    {
     "data": {
      "application/vnd.jupyter.widget-view+json": {
       "model_id": "df1b5c17f2ca41d799bf86fc08698f14",
       "version_major": 2,
       "version_minor": 0
      },
      "text/plain": [
       "  0%|          | 0/4 [00:00<?, ?it/s]"
      ]
     },
     "metadata": {},
     "output_type": "display_data"
    }
   ],
   "source": [
    "import subprocess\n",
    "from tqdm.auto import tqdm\n",
    "# from rich.progress import track\n",
    "\n",
    "# Function to run a command and write its output to a file\n",
    "def run_command(command, file):\n",
    "    result = subprocess.run(command, stdout=subprocess.PIPE, text=True, shell=True)\n",
    "    with open(file, 'a') as f:\n",
    "        f.write(result.stdout)\n",
    "\n",
    "# Iterate from 1 to 60\n",
    "\n",
    "ts = [n for n in range(1, 31)]\n",
    "ts += [35, 40, 45, 60]\n",
    "\n",
    "for i in tqdm([15]):\n",
    "    # Run the first script and save the output\n",
    "    run_command(f'python3 15MC_time.py {i} 110', '15MC_python_output.txt')\n",
    "    \n",
    "    # Run the second script and save the output\n",
    "    # run_command(f'cargo run --manifest-path=./min_city/Cargo.toml {i} 110', '15MC_rust_output.txt')\n"
   ]
  }
 ],
 "metadata": {
  "kernelspec": {
   "display_name": "Python 3",
   "language": "python",
   "name": "python3"
  },
  "language_info": {
   "codemirror_mode": {
    "name": "ipython",
    "version": 3
   },
   "file_extension": ".py",
   "mimetype": "text/x-python",
   "name": "python",
   "nbconvert_exporter": "python",
   "pygments_lexer": "ipython3",
   "version": "3.9.16"
  }
 },
 "nbformat": 4,
 "nbformat_minor": 2
}
