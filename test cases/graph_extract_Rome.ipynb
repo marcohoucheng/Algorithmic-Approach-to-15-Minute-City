{
 "cells": [
  {
   "cell_type": "markdown",
   "metadata": {},
   "source": [
    "https://geoffboeing.com/2016/11/osmnx-python-street-networks/"
   ]
  },
  {
   "cell_type": "code",
   "execution_count": 1,
   "metadata": {},
   "outputs": [],
   "source": [
    "%%capture\n",
    "\n",
    "import os, tqdm\n",
    "import pandas as pd\n",
    "import osmnx as ox\n",
    "import networkx as nx\n",
    "from shapely.geometry import Point, LineString\n",
    "from shapely.ops import nearest_points, transform\n",
    "import pyproj\n",
    "import heapq\n",
    "\n",
    "# Configure OSMnx\n",
    "ox.config(use_cache=True, log_console=True)"
   ]
  },
  {
   "cell_type": "code",
   "execution_count": 2,
   "metadata": {},
   "outputs": [],
   "source": [
    "walking_speed = 1.22 # m/s\n",
    "walking_speed = walking_speed * 60 # m/min"
   ]
  },
  {
   "cell_type": "code",
   "execution_count": 3,
   "metadata": {},
   "outputs": [],
   "source": [
    "city_boxes = {'Rome': (41.9952, 41.7882, 12.6281, 12.3644), # north, south, east, west\n",
    "              'Paris': (48.9520, 48.7650, 2.4900, 2.2100),\n",
    "              'London': (51.6792, 51.2473, 0.2774, -0.4944)}"
   ]
  },
  {
   "cell_type": "code",
   "execution_count": 4,
   "metadata": {},
   "outputs": [],
   "source": [
    "city = 'Rome, Italy'\n",
    "network_type = 'all'"
   ]
  },
  {
   "cell_type": "code",
   "execution_count": 5,
   "metadata": {},
   "outputs": [],
   "source": [
    "def process_graph(graph):\n",
    "    # Project graph\n",
    "    graph = ox.projection.project_graph(graph, to_crs=3035)\n",
    "\n",
    "    graph = ox.simplification.consolidate_intersections(\n",
    "        # Graph to simplify\n",
    "        graph,\n",
    "        # buffer around each node (project the graph beforehand)\n",
    "        tolerance=10,\n",
    "        # Get result as graph (False to get nodes only as gdf)\n",
    "        rebuild_graph=True,\n",
    "        # no dead ends\n",
    "        dead_ends=False,\n",
    "        # Reconnect (False to get intersections only)\n",
    "        reconnect_edges=True\n",
    "    )\n",
    "\n",
    "    return ox.convert.to_undirected(graph)"
   ]
  },
  {
   "cell_type": "code",
   "execution_count": 6,
   "metadata": {},
   "outputs": [],
   "source": [
    "bbox = city_boxes[city.split(', ')[0]]\n",
    "\n",
    "# graph = ox.graph_from_place(city, network_type=network_type, simplify=True, retain_all=False, truncate_by_edge=True)\n",
    "# graph = ox.graph_from_point((45.39842, 11.87649), dist=150, network_type=network_type)\n",
    "graph = ox.graph_from_bbox(bbox = bbox, network_type=network_type)\n",
    "\n",
    "graph = process_graph(graph)"
   ]
  },
  {
   "cell_type": "code",
   "execution_count": 7,
   "metadata": {},
   "outputs": [],
   "source": [
    "%%capture\n",
    "# https://wiki.openstreetmap.org/wiki/Key:amenity?uselang=en-GB\n",
    "\n",
    "supermarket = ox.features.features_from_bbox(bbox = bbox, tags={'shop': ['supermarket','convenience']}).to_crs(epsg=3035)\n",
    "pharmacy = ox.features.features_from_bbox(bbox = bbox, tags={'amenity': 'pharmacy'}).to_crs(epsg=3035)\n",
    "# kindergarten = ox.features.features_from_bbox(bbox = bbox, tags={'amenity': 'kindergarten'}).to_crs(epsg=3035)\n",
    "post_office = ox.features.features_from_bbox(bbox = bbox, tags={'amenity': 'post_office'}).to_crs(epsg=3035)\n",
    "# doctor = ox.features.features_from_bbox(bbox = bbox, tags={'amenity': 'doctors'}).to_crs(epsg=3035)\n",
    "# cafe = ox.features.features_from_bbox(bbox = bbox, tags={'amenity': ['cafe', 'bar']}).to_crs(epsg=3035)\n",
    "\n",
    "unique_services = ['supermarket', 'pharmacy', 'post_office']"
   ]
  },
  {
   "cell_type": "code",
   "execution_count": 8,
   "metadata": {},
   "outputs": [
    {
     "name": "stdout",
     "output_type": "stream",
     "text": [
      "supermarket 1093\n",
      "pharmacy 538\n",
      "post_office 174\n"
     ]
    }
   ],
   "source": [
    "service_nodes = dict([(unique_services[i],[]) for i in range(len(unique_services))])\n",
    "\n",
    "_ = [print(k, len(eval(k))) for k, v in service_nodes.items()]"
   ]
  },
  {
   "cell_type": "code",
   "execution_count": 9,
   "metadata": {},
   "outputs": [],
   "source": [
    "# Define a function to insert a service node into the graph\n",
    "def insert_service_node(graph, service_type, service_lon, service_lat):\n",
    "    \n",
    "    # Find the nearest edge and get the geometry to the service location\n",
    "    u, v, key = ox.nearest_edges(graph, X=service_lon, Y=service_lat) # (u, v have x, y coordinates)\n",
    "\n",
    "    # Create a point for the service location\n",
    "    point = Point(service_lon, service_lat) # (lon, lat)\n",
    "\n",
    "    # If edge is not a straight line, i.e. contains a 'geometry'\n",
    "    try:\n",
    "        edge_geom = graph.edges[u, v, key]['geometry']\n",
    "        edge_weight = edge_geom.length\n",
    "        edge_weight_linear = (edge_geom.coords[0]).distance(edge_geom.coords[-1]) * 111320\n",
    "\n",
    "    except:\n",
    "        # Coordinates of the nearest_edges\n",
    "        edge_geom = LineString([(graph.nodes[u]['x'], graph.nodes[u]['y']),(graph.nodes[v]['x'], graph.nodes[v]['y'])])\n",
    "        edge_weight = edge_weight_linear = Point(graph.nodes[u]['x'], graph.nodes[u]['y']).distance(Point(graph.nodes[v]['x'], graph.nodes[v]['y'])) * 111320\n",
    "        # edge_weight = line_string_distance(edge_geom)\n",
    "        \n",
    "    # Calculate the closest point on the edge to the service location\n",
    "    closest_point_on_edge = nearest_points(edge_geom, point)[0] # (lon. lat)\n",
    "\n",
    "    # Ratio of first segment to total length\n",
    "    if closest_point_on_edge == Point(edge_geom.coords[0]):\n",
    "        graph.nodes[u]['service_type'] = service_type\n",
    "        return\n",
    "    elif closest_point_on_edge == Point(edge_geom.coords[-1]):\n",
    "        graph.nodes[v]['service_type'] = service_type\n",
    "        return\n",
    "\n",
    "    # Create new edges with the split geometries\n",
    "    edge_geom_1 = LineString([edge_geom.coords[0], (closest_point_on_edge.x, closest_point_on_edge.y)])\n",
    "    edge_geom_2 = LineString([(closest_point_on_edge.x, closest_point_on_edge.y), edge_geom.coords[-1]])\n",
    "\n",
    "    # Insert the new node into the graph\n",
    "    new_node_id = max(graph.nodes()) + 1  # or any unique ID\n",
    "    graph.add_node(new_node_id, x=closest_point_on_edge.x, y=closest_point_on_edge.y, service_type=service_type)\n",
    "\n",
    "    ratio_segment_1 = closest_point_on_edge.distance(Point(edge_geom.coords[0])) / edge_weight_linear\n",
    "\n",
    "    # Split weight based on ratio\n",
    "    # weight_segment_1 = line_string_distance(edge_geom_1)\n",
    "    # weight_segment_2 = line_string_distance(edge_geom_2)\n",
    "    weight_segment_1 = edge_weight * ratio_segment_1\n",
    "    weight_segment_2 = edge_weight * (1 - ratio_segment_1)\n",
    "\n",
    "    # # Remove the old edge and add the new edges\n",
    "    graph.remove_edge(u, v)\n",
    "    graph.add_edge(u, new_node_id, key=key, geometry=edge_geom_1, length=weight_segment_1)\n",
    "    graph.add_edge(new_node_id, v, key=key, geometry=edge_geom_2, length=weight_segment_2)\n",
    "\n",
    "    return new_node_id"
   ]
  },
  {
   "cell_type": "code",
   "execution_count": 10,
   "metadata": {},
   "outputs": [
    {
     "name": "stderr",
     "output_type": "stream",
     "text": [
      "  0%|          | 0/3 [00:00<?, ?it/s]/Users/Marco/.pyenv/versions/3.12.0/lib/python3.12/site-packages/shapely/linear.py:203: RuntimeWarning: invalid value encountered in shortest_line\n",
      "  return lib.shortest_line(a, b, **kwargs)\n",
      "/Users/Marco/.pyenv/versions/3.12.0/lib/python3.12/site-packages/shapely/linear.py:203: RuntimeWarning: invalid value encountered in shortest_line\n",
      "  return lib.shortest_line(a, b, **kwargs)\n",
      "/Users/Marco/.pyenv/versions/3.12.0/lib/python3.12/site-packages/shapely/linear.py:203: RuntimeWarning: invalid value encountered in shortest_line\n",
      "  return lib.shortest_line(a, b, **kwargs)\n",
      "/Users/Marco/.pyenv/versions/3.12.0/lib/python3.12/site-packages/shapely/linear.py:203: RuntimeWarning: invalid value encountered in shortest_line\n",
      "  return lib.shortest_line(a, b, **kwargs)\n",
      "/Users/Marco/.pyenv/versions/3.12.0/lib/python3.12/site-packages/shapely/linear.py:203: RuntimeWarning: invalid value encountered in shortest_line\n",
      "  return lib.shortest_line(a, b, **kwargs)\n",
      "/Users/Marco/.pyenv/versions/3.12.0/lib/python3.12/site-packages/shapely/linear.py:203: RuntimeWarning: invalid value encountered in shortest_line\n",
      "  return lib.shortest_line(a, b, **kwargs)\n",
      "/Users/Marco/.pyenv/versions/3.12.0/lib/python3.12/site-packages/shapely/linear.py:203: RuntimeWarning: invalid value encountered in shortest_line\n",
      "  return lib.shortest_line(a, b, **kwargs)\n",
      "/Users/Marco/.pyenv/versions/3.12.0/lib/python3.12/site-packages/shapely/linear.py:203: RuntimeWarning: invalid value encountered in shortest_line\n",
      "  return lib.shortest_line(a, b, **kwargs)\n",
      "/Users/Marco/.pyenv/versions/3.12.0/lib/python3.12/site-packages/shapely/linear.py:203: RuntimeWarning: invalid value encountered in shortest_line\n",
      "  return lib.shortest_line(a, b, **kwargs)\n",
      "/Users/Marco/.pyenv/versions/3.12.0/lib/python3.12/site-packages/shapely/linear.py:203: RuntimeWarning: invalid value encountered in shortest_line\n",
      "  return lib.shortest_line(a, b, **kwargs)\n",
      "/Users/Marco/.pyenv/versions/3.12.0/lib/python3.12/site-packages/shapely/linear.py:203: RuntimeWarning: invalid value encountered in shortest_line\n",
      "  return lib.shortest_line(a, b, **kwargs)\n",
      "/Users/Marco/.pyenv/versions/3.12.0/lib/python3.12/site-packages/shapely/linear.py:203: RuntimeWarning: invalid value encountered in shortest_line\n",
      "  return lib.shortest_line(a, b, **kwargs)\n",
      "/Users/Marco/.pyenv/versions/3.12.0/lib/python3.12/site-packages/shapely/linear.py:203: RuntimeWarning: invalid value encountered in shortest_line\n",
      "  return lib.shortest_line(a, b, **kwargs)\n",
      "/Users/Marco/.pyenv/versions/3.12.0/lib/python3.12/site-packages/shapely/linear.py:203: RuntimeWarning: invalid value encountered in shortest_line\n",
      "  return lib.shortest_line(a, b, **kwargs)\n",
      "/Users/Marco/.pyenv/versions/3.12.0/lib/python3.12/site-packages/shapely/linear.py:203: RuntimeWarning: invalid value encountered in shortest_line\n",
      "  return lib.shortest_line(a, b, **kwargs)\n",
      "/Users/Marco/.pyenv/versions/3.12.0/lib/python3.12/site-packages/shapely/linear.py:203: RuntimeWarning: invalid value encountered in shortest_line\n",
      "  return lib.shortest_line(a, b, **kwargs)\n",
      "/Users/Marco/.pyenv/versions/3.12.0/lib/python3.12/site-packages/shapely/linear.py:203: RuntimeWarning: invalid value encountered in shortest_line\n",
      "  return lib.shortest_line(a, b, **kwargs)\n",
      "/Users/Marco/.pyenv/versions/3.12.0/lib/python3.12/site-packages/shapely/linear.py:203: RuntimeWarning: invalid value encountered in shortest_line\n",
      "  return lib.shortest_line(a, b, **kwargs)\n",
      "/Users/Marco/.pyenv/versions/3.12.0/lib/python3.12/site-packages/shapely/linear.py:203: RuntimeWarning: invalid value encountered in shortest_line\n",
      "  return lib.shortest_line(a, b, **kwargs)\n",
      "/Users/Marco/.pyenv/versions/3.12.0/lib/python3.12/site-packages/shapely/linear.py:203: RuntimeWarning: invalid value encountered in shortest_line\n",
      "  return lib.shortest_line(a, b, **kwargs)\n",
      "/Users/Marco/.pyenv/versions/3.12.0/lib/python3.12/site-packages/shapely/linear.py:203: RuntimeWarning: invalid value encountered in shortest_line\n",
      "  return lib.shortest_line(a, b, **kwargs)\n",
      "/Users/Marco/.pyenv/versions/3.12.0/lib/python3.12/site-packages/shapely/linear.py:203: RuntimeWarning: invalid value encountered in shortest_line\n",
      "  return lib.shortest_line(a, b, **kwargs)\n",
      " 33%|███▎      | 1/3 [11:17<22:35, 678.00s/it]/Users/Marco/.pyenv/versions/3.12.0/lib/python3.12/site-packages/shapely/linear.py:203: RuntimeWarning: invalid value encountered in shortest_line\n",
      "  return lib.shortest_line(a, b, **kwargs)\n",
      "/Users/Marco/.pyenv/versions/3.12.0/lib/python3.12/site-packages/shapely/linear.py:203: RuntimeWarning: invalid value encountered in shortest_line\n",
      "  return lib.shortest_line(a, b, **kwargs)\n",
      "/Users/Marco/.pyenv/versions/3.12.0/lib/python3.12/site-packages/shapely/linear.py:203: RuntimeWarning: invalid value encountered in shortest_line\n",
      "  return lib.shortest_line(a, b, **kwargs)\n",
      "/Users/Marco/.pyenv/versions/3.12.0/lib/python3.12/site-packages/shapely/linear.py:203: RuntimeWarning: invalid value encountered in shortest_line\n",
      "  return lib.shortest_line(a, b, **kwargs)\n",
      "/Users/Marco/.pyenv/versions/3.12.0/lib/python3.12/site-packages/shapely/linear.py:203: RuntimeWarning: invalid value encountered in shortest_line\n",
      "  return lib.shortest_line(a, b, **kwargs)\n",
      " 67%|██████▋   | 2/3 [16:49<07:54, 474.17s/it]/Users/Marco/.pyenv/versions/3.12.0/lib/python3.12/site-packages/shapely/linear.py:203: RuntimeWarning: invalid value encountered in shortest_line\n",
      "  return lib.shortest_line(a, b, **kwargs)\n",
      "/Users/Marco/.pyenv/versions/3.12.0/lib/python3.12/site-packages/shapely/linear.py:203: RuntimeWarning: invalid value encountered in shortest_line\n",
      "  return lib.shortest_line(a, b, **kwargs)\n",
      "/Users/Marco/.pyenv/versions/3.12.0/lib/python3.12/site-packages/shapely/linear.py:203: RuntimeWarning: invalid value encountered in shortest_line\n",
      "  return lib.shortest_line(a, b, **kwargs)\n",
      "/Users/Marco/.pyenv/versions/3.12.0/lib/python3.12/site-packages/shapely/linear.py:203: RuntimeWarning: invalid value encountered in shortest_line\n",
      "  return lib.shortest_line(a, b, **kwargs)\n",
      "/Users/Marco/.pyenv/versions/3.12.0/lib/python3.12/site-packages/shapely/linear.py:203: RuntimeWarning: invalid value encountered in shortest_line\n",
      "  return lib.shortest_line(a, b, **kwargs)\n",
      "100%|██████████| 3/3 [18:32<00:00, 370.91s/it]\n"
     ]
    }
   ],
   "source": [
    "# x = longitude, y = latitude\n",
    "\n",
    "for s in tqdm.tqdm(unique_services):\n",
    "    if 'node' in list(eval(s).index.get_level_values(0)):\n",
    "        for v in eval(s)['geometry']['node'].get_coordinates().iterrows():\n",
    "            node_id = insert_service_node(graph, s, v[1]['x'], v[1]['y'])\n",
    "            if node_id is not None:\n",
    "                service_nodes[s].append(node_id)\n",
    "    if 'way' in list(eval(s).index.get_level_values(0)):\n",
    "        for v in eval(s)['geometry']['way'].get_coordinates().groupby('osmid').agg('mean').iterrows():\n",
    "            node_id = insert_service_node(graph, s, v[1]['x'], v[1]['y'])\n",
    "            if node_id is not None:\n",
    "                service_nodes[s].append(node_id)"
   ]
  },
  {
   "cell_type": "code",
   "execution_count": 11,
   "metadata": {},
   "outputs": [],
   "source": [
    "# s = 'supermarkets'\n",
    "# if 'node' in list(eval(s).index.get_level_values(0)):\n",
    "#     for v in eval(s)['geometry']['node'].get_coordinates().iterrows():\n",
    "#         insert_service_node(graph, s, v[1]['x'], v[1]['y'])\n",
    "# if 'way' in list(eval(s).index.get_level_values(0)):\n",
    "#     for v in eval(s)['geometry']['way'].get_coordinates().groupby('osmid').agg('mean').iterrows():\n",
    "#         insert_service_node(graph, s, v[1]['x'], v[1]['y'])"
   ]
  },
  {
   "cell_type": "code",
   "execution_count": 12,
   "metadata": {},
   "outputs": [],
   "source": [
    "# %%capture\n",
    "\n",
    "# # for s in tqdm.tqdm(unique_services):\n",
    "# for s in tqdm.tqdm(['supermarkets', 'cafe']):\n",
    "#     if 'node' in list(eval(s).index.get_level_values(0)):\n",
    "#         for v in eval(s)['geometry']['node'].get_coordinates().iterrows():\n",
    "#             node_id = ox.nearest_nodes(graph, v[1]['x'], v[1]['y'])\n",
    "#             graph.nodes[node_id]['service_type'] = s\n",
    "#     if 'way' in list(eval(s).index.get_level_values(0)):\n",
    "#         for v in eval(s)['geometry']['way'].get_coordinates().groupby('osmid').agg('mean').iterrows():\n",
    "#             node_id = ox.nearest_nodes(graph, v[1]['x'], v[1]['y'])\n",
    "#             graph.nodes[node_id]['service_type'] = s"
   ]
  },
  {
   "cell_type": "code",
   "execution_count": 13,
   "metadata": {},
   "outputs": [],
   "source": [
    "for u, v, k, data in graph.edges(keys=True, data=True):\n",
    "    if 'geometry' in data:\n",
    "        data['weight'] = data['geometry'].length / walking_speed\n",
    "    else:\n",
    "        data['weight'] = data['length'] / walking_speed"
   ]
  },
  {
   "cell_type": "code",
   "execution_count": 14,
   "metadata": {},
   "outputs": [
    {
     "name": "stdout",
     "output_type": "stream",
     "text": [
      "There are 41197 nodes and 74477 edges in the graph\n"
     ]
    }
   ],
   "source": [
    "print(f'There are {len(graph)} nodes and {len(graph.edges)} edges in the graph')"
   ]
  },
  {
   "cell_type": "markdown",
   "metadata": {},
   "source": [
    "# Dijkstra"
   ]
  },
  {
   "cell_type": "code",
   "execution_count": 15,
   "metadata": {},
   "outputs": [],
   "source": [
    "def custom_dijkstra(G, source, threshold):\n",
    "    # Initialize distances and visited set\n",
    "    distances = {node: float('inf') for node in G.nodes}\n",
    "    distances[source] = 0\n",
    "    visited = set()\n",
    "\n",
    "    # Priority queue (heap) to store nodes and their distances\n",
    "    pq = [(0, source)]\n",
    "\n",
    "    while pq:\n",
    "        current_distance, current_node = heapq.heappop(pq)\n",
    "\n",
    "        # Stop if all nodes within 15 have been visited\n",
    "        if current_distance > threshold:\n",
    "            break\n",
    "\n",
    "        if current_node not in visited:\n",
    "            visited.add(current_node)\n",
    "\n",
    "        for neighbor, edge_data in G[current_node].items():\n",
    "            weight = min([dict(edge_data)[k]['weight'] for k in dict(edge_data).keys()])\n",
    "            new_distance = current_distance + weight\n",
    "            if new_distance < distances[neighbor]:\n",
    "                distances[neighbor] = new_distance\n",
    "                heapq.heappush(pq, (new_distance, neighbor))\n",
    "\n",
    "    return visited"
   ]
  },
  {
   "cell_type": "code",
   "execution_count": 16,
   "metadata": {},
   "outputs": [],
   "source": [
    "to_debug = False\n",
    "\n",
    "def custom_dijkstra_debug(G, source, threshold):\n",
    "    # Initialize distances and visited set\n",
    "    distances = {node: float('inf') for node in G.nodes}\n",
    "    distances[source] = 0\n",
    "    visited = set()\n",
    "\n",
    "    # Priority queue (heap) to store nodes and their distances\n",
    "    pq = [(0, source)]\n",
    "\n",
    "    print(f'Source: {source}')\n",
    "\n",
    "    while pq:\n",
    "        current_distance, current_node = heapq.heappop(pq)\n",
    "\n",
    "        print(f'Current node: {current_node}, Current distance: {current_distance}')\n",
    "\n",
    "        # Stop if all nodes within 15 have been visited\n",
    "        if current_distance > threshold:\n",
    "            print('Threshold reached, break.')\n",
    "            break\n",
    "\n",
    "        if current_node not in visited:\n",
    "            print(f'Adding {current_node} to visited.')\n",
    "            visited.add(current_node)\n",
    "\n",
    "        for neighbor, edge_data in G[current_node].items():\n",
    "            weight = min([dict(edge_data)[k]['weight'] for k in dict(edge_data).keys()])\n",
    "            new_distance = current_distance + weight\n",
    "            print(f'Neighbor: {neighbor}, weight: {weight}, new distance: {new_distance}')\n",
    "            if new_distance < distances[neighbor]:\n",
    "                print(f'Updating distance for {neighbor} to {new_distance}')\n",
    "                distances[neighbor] = new_distance\n",
    "                heapq.heappush(pq, (new_distance, neighbor))\n",
    "\n",
    "    return visited\n",
    "\n",
    "if to_debug:\n",
    "    FMC = set(graph.nodes())\n",
    "    for idx, service_type in enumerate(unique_services):\n",
    "        new_node_id = max(graph.nodes) + idx + 1\n",
    "        print(f'New node ID: {new_node_id}')\n",
    "        graph.add_node(new_node_id) # create new node\n",
    "        graph.add_weighted_edges_from([(new_node_id, node, 0) for node in service_nodes[service_type]])\n",
    "        FMC_tmp = custom_dijkstra_debug(graph, new_node_id, 15)\n",
    "        graph.remove_node(new_node_id)\n",
    "        FMC = FMC.intersection(FMC_tmp)\n",
    "        print('\\n')\n",
    "    print(f'There are {len(FMC)} nodes in the 15 MC')"
   ]
  },
  {
   "cell_type": "markdown",
   "metadata": {},
   "source": [
    "# 15 MC"
   ]
  },
  {
   "cell_type": "code",
   "execution_count": 17,
   "metadata": {},
   "outputs": [
    {
     "name": "stdout",
     "output_type": "stream",
     "text": [
      "There are 20594 nodes in the 15 MC\n"
     ]
    }
   ],
   "source": [
    "FMC = set(graph.nodes())\n",
    "for idx, service_type in enumerate(unique_services):\n",
    "    new_node_id = max(graph.nodes) + idx + 1\n",
    "    graph.add_node(new_node_id) # create new node\n",
    "    graph.add_weighted_edges_from([(new_node_id, node, 0) for node in service_nodes[service_type]])\n",
    "    FMC_tmp = custom_dijkstra(graph, new_node_id, 15)\n",
    "    graph.remove_node(new_node_id)\n",
    "    FMC = FMC.intersection(FMC_tmp)\n",
    "print(f'There are {len(FMC)} nodes in the 15 MC')"
   ]
  },
  {
   "cell_type": "code",
   "execution_count": 34,
   "metadata": {},
   "outputs": [],
   "source": [
    "node_c = ['w'] * len(graph.nodes)\n",
    "\n",
    "for u in FMC:\n",
    "    node_c[u] = 'r'\n",
    "\n",
    "for u in [u for _, v in service_nodes.items() for u in v]:\n",
    "    node_c[u] = 'b'"
   ]
  },
  {
   "cell_type": "code",
   "execution_count": 35,
   "metadata": {},
   "outputs": [],
   "source": [
    "edge_c = []\n",
    "\n",
    "for u, v in graph.edges():\n",
    "    if u in FMC and v in FMC:\n",
    "        edge_c.append('r')\n",
    "    else:\n",
    "        edge_c.append('k')"
   ]
  },
  {
   "cell_type": "code",
   "execution_count": 21,
   "metadata": {},
   "outputs": [
    {
     "data": {
      "text/plain": [
       "(<Figure size 8000x8000 with 1 Axes>, <Axes: >)"
      ]
     },
     "execution_count": 21,
     "metadata": {},
     "output_type": "execute_result"
    }
   ],
   "source": [
    "ox.plot_graph(graph, bgcolor='w', node_color=node_c, node_edgecolor='k', node_size=8, edge_color=edge_c, edge_linewidth=1, edge_alpha=1, figsize=(80,80), dpi=500, save=True, filepath=os.path.join('./images', city.split(', ')[0] + '_15MC_nodes.png'), show=False, close=True)"
   ]
  },
  {
   "cell_type": "code",
   "execution_count": 36,
   "metadata": {},
   "outputs": [
    {
     "data": {
      "text/plain": [
       "(<Figure size 8000x8000 with 1 Axes>, <Axes: >)"
      ]
     },
     "execution_count": 36,
     "metadata": {},
     "output_type": "execute_result"
    }
   ],
   "source": [
    "ox.plot_graph(graph, bgcolor='w', node_color=node_c, node_edgecolor='k', node_size=8, edge_color=edge_c, edge_linewidth=2, edge_alpha=1, figsize=(80,80), dpi=500, save=True, filepath=os.path.join('./images', city.split(', ')[0] + '_15MC_nodes_thick.png'), show=False, close=True)"
   ]
  },
  {
   "cell_type": "code",
   "execution_count": 37,
   "metadata": {},
   "outputs": [],
   "source": [
    "edge_c2 = []\n",
    "\n",
    "for u, v in graph.edges():\n",
    "    if u in FMC and v in FMC:\n",
    "        edge_c2.append('k')\n",
    "    else:\n",
    "        edge_c2.append('r')"
   ]
  },
  {
   "cell_type": "code",
   "execution_count": 23,
   "metadata": {},
   "outputs": [
    {
     "data": {
      "text/plain": [
       "(<Figure size 8000x8000 with 1 Axes>, <Axes: >)"
      ]
     },
     "execution_count": 23,
     "metadata": {},
     "output_type": "execute_result"
    }
   ],
   "source": [
    "ox.plot_graph(graph, bgcolor='w', node_size=0, edge_color=edge_c2, edge_linewidth=1, edge_alpha=1, figsize=(80,80), dpi=500, save=True, filepath=os.path.join('./images', city.split(', ')[0] + '_15MC.png'), show=False, close=True)"
   ]
  },
  {
   "cell_type": "code",
   "execution_count": 38,
   "metadata": {},
   "outputs": [
    {
     "data": {
      "text/plain": [
       "(<Figure size 8000x8000 with 1 Axes>, <Axes: >)"
      ]
     },
     "execution_count": 38,
     "metadata": {},
     "output_type": "execute_result"
    }
   ],
   "source": [
    "ox.plot_graph(graph, bgcolor='w', node_size=0, edge_color=edge_c2, edge_linewidth=2, edge_alpha=1, figsize=(80,80), dpi=500, save=True, filepath=os.path.join('./images', city.split(', ')[0] + '_15MC_thick.png'), show=False, close=True)"
   ]
  },
  {
   "cell_type": "markdown",
   "metadata": {},
   "source": [
    "# 1-30 MC"
   ]
  },
  {
   "cell_type": "code",
   "execution_count": 24,
   "metadata": {},
   "outputs": [
    {
     "name": "stdout",
     "output_type": "stream",
     "text": [
      "There are 2 nodes in the 1 MC\n",
      "There are 210 nodes in the 2 MC\n",
      "There are 890 nodes in the 3 MC\n",
      "There are 1987 nodes in the 4 MC\n",
      "There are 3382 nodes in the 5 MC\n",
      "There are 4993 nodes in the 6 MC\n",
      "There are 6760 nodes in the 7 MC\n",
      "There are 8675 nodes in the 8 MC\n",
      "There are 10609 nodes in the 9 MC\n",
      "There are 12517 nodes in the 10 MC\n",
      "There are 14367 nodes in the 11 MC\n",
      "There are 16106 nodes in the 12 MC\n",
      "There are 17731 nodes in the 13 MC\n",
      "There are 19206 nodes in the 14 MC\n",
      "There are 20594 nodes in the 15 MC\n",
      "There are 21853 nodes in the 16 MC\n",
      "There are 23042 nodes in the 17 MC\n",
      "There are 24178 nodes in the 18 MC\n",
      "There are 25169 nodes in the 19 MC\n",
      "There are 26153 nodes in the 20 MC\n",
      "There are 27042 nodes in the 21 MC\n",
      "There are 27830 nodes in the 22 MC\n",
      "There are 28608 nodes in the 23 MC\n",
      "There are 29319 nodes in the 24 MC\n",
      "There are 29963 nodes in the 25 MC\n",
      "There are 30557 nodes in the 26 MC\n",
      "There are 31063 nodes in the 27 MC\n",
      "There are 31547 nodes in the 28 MC\n",
      "There are 32039 nodes in the 29 MC\n",
      "There are 32515 nodes in the 30 MC\n"
     ]
    }
   ],
   "source": [
    "max_threshold = 30\n",
    "MC = [set(graph.nodes())] * max_threshold\n",
    "for i in range(max_threshold):\n",
    "    for idx, service_type in enumerate(unique_services):\n",
    "        new_node_id = max(graph.nodes) + idx + 1\n",
    "        graph.add_node(new_node_id) # create new node\n",
    "        graph.add_weighted_edges_from([(new_node_id, node, 0) for node in service_nodes[service_type]])\n",
    "        FMC_tmp = custom_dijkstra(graph, new_node_id, i+1)\n",
    "        graph.remove_node(new_node_id)\n",
    "        MC[i] = MC[i].intersection(FMC_tmp)\n",
    "    print(f'There are {len(MC[i])} nodes in the {i+1} MC')"
   ]
  },
  {
   "cell_type": "code",
   "execution_count": 25,
   "metadata": {},
   "outputs": [],
   "source": [
    "MC_unique = {key + 1: MC[key].difference(*MC[:key]) for key in range(max_threshold)}"
   ]
  },
  {
   "cell_type": "code",
   "execution_count": 45,
   "metadata": {},
   "outputs": [],
   "source": [
    "colours = ox.plot.get_colors(n=max_threshold+1, cmap=\"copper\") # cool, winter, Blues"
   ]
  },
  {
   "cell_type": "code",
   "execution_count": 46,
   "metadata": {},
   "outputs": [],
   "source": [
    "node_cs = [colours[max_threshold]] * len(graph.nodes)\n",
    "\n",
    "for t in range(max_threshold - 1, -1, -1):\n",
    "    for u in MC[t]:\n",
    "        node_cs[u] = colours[t]\n",
    "\n",
    "for u in [u for _, v in service_nodes.items() for u in v]:\n",
    "    node_cs[u] = 'r'"
   ]
  },
  {
   "cell_type": "code",
   "execution_count": 47,
   "metadata": {},
   "outputs": [
    {
     "data": {
      "text/plain": [
       "(<Figure size 8000x8000 with 1 Axes>, <Axes: >)"
      ]
     },
     "execution_count": 47,
     "metadata": {},
     "output_type": "execute_result"
    }
   ],
   "source": [
    "ox.plot_graph(graph, bgcolor='w', node_color=node_cs, node_edgecolor='k', node_size=8, edge_linewidth=1, edge_alpha=1, figsize=(80,80), dpi=500, save=True, filepath=os.path.join('./images', city.split(', ')[0] + '_30tMC_nodes.png'), show=False, close=True)"
   ]
  },
  {
   "cell_type": "code",
   "execution_count": 48,
   "metadata": {},
   "outputs": [
    {
     "data": {
      "text/plain": [
       "(<Figure size 8000x8000 with 1 Axes>, <Axes: >)"
      ]
     },
     "execution_count": 48,
     "metadata": {},
     "output_type": "execute_result"
    }
   ],
   "source": [
    "ox.plot_graph(graph, bgcolor='w', node_color=node_cs, node_edgecolor='k', node_size=8, edge_linewidth=2, edge_alpha=1, figsize=(80,80), dpi=500, save=True, filepath=os.path.join('./images', city.split(', ')[0] + '_30tMC_nodes_thick.png'), show=False, close=True)"
   ]
  },
  {
   "cell_type": "code",
   "execution_count": 49,
   "metadata": {},
   "outputs": [],
   "source": [
    "def find_key_of_value(d, number):\n",
    "    for key, values in d.items():\n",
    "        if number in values:\n",
    "            return key\n",
    "    return max(d.keys()) + 1"
   ]
  },
  {
   "cell_type": "code",
   "execution_count": 50,
   "metadata": {},
   "outputs": [],
   "source": [
    "edge_cs = [colours[max_threshold]] * len(graph.edges()) # blues[max_threshold-1] darkest\n",
    "\n",
    "for i, (u, v) in enumerate(graph.edges()):\n",
    "    idx = max(find_key_of_value(MC_unique, u), find_key_of_value(MC_unique, v))\n",
    "    if idx <= max_threshold:\n",
    "        edge_cs[i] = colours[idx-1]"
   ]
  },
  {
   "cell_type": "code",
   "execution_count": 51,
   "metadata": {},
   "outputs": [
    {
     "data": {
      "text/plain": [
       "(<Figure size 8000x8000 with 1 Axes>, <Axes: >)"
      ]
     },
     "execution_count": 51,
     "metadata": {},
     "output_type": "execute_result"
    }
   ],
   "source": [
    "ox.plot_graph(graph, bgcolor='w', node_size=0, edge_color=edge_cs, edge_linewidth=1, edge_alpha=1, figsize=(80,80), dpi=500, save=True, filepath=os.path.join('./images', city.split(', ')[0] + '_30tMC.png'), show=False, close=True)"
   ]
  },
  {
   "cell_type": "code",
   "execution_count": null,
   "metadata": {},
   "outputs": [],
   "source": [
    "ox.plot_graph(graph, bgcolor='w', node_size=0, edge_color=edge_cs, edge_linewidth=2, edge_alpha=1, figsize=(80,80), dpi=500, save=True, filepath=os.path.join('./images', city.split(', ')[0] + '_30tMC_thick.png'), show=False, close=True)"
   ]
  },
  {
   "cell_type": "markdown",
   "metadata": {},
   "source": [
    "# 15 tMC"
   ]
  },
  {
   "cell_type": "code",
   "execution_count": null,
   "metadata": {},
   "outputs": [],
   "source": [
    "half_max_threshold = int(max_threshold/2)\n",
    "\n",
    "half_colours = ox.plot.get_colors(n=half_max_threshold+1, cmap=\"copper\") # cool, winter\n",
    "\n",
    "edge_cs = [half_colours[half_max_threshold]] * len(graph.edges())\n",
    "\n",
    "for i, (u, v) in enumerate(graph.edges()):\n",
    "    idx = max(find_key_of_value(MC_unique, u), find_key_of_value(MC_unique, v))\n",
    "    if idx <= half_max_threshold:\n",
    "        edge_cs[i] = half_colours[idx-1]\n",
    "\n",
    "ox.plot_graph(graph, bgcolor='w', node_size=0, edge_color=edge_cs, edge_linewidth=1, edge_alpha=1, figsize=(80,80), dpi=500, save=True, filepath=os.path.join('./images', city.split(', ')[0] + '_15tMC.png'), show=False, close=True)\n",
    "\n",
    "ox.plot_graph(graph, bgcolor='w', node_size=0, edge_color=edge_cs, edge_linewidth=2, edge_alpha=1, figsize=(80,80), dpi=500, save=True, filepath=os.path.join('./images', city.split(', ')[0] + '_15tMC_thick.png'), show=False, close=True)"
   ]
  },
  {
   "cell_type": "markdown",
   "metadata": {},
   "source": [
    "# Save data"
   ]
  },
  {
   "cell_type": "code",
   "execution_count": 33,
   "metadata": {},
   "outputs": [],
   "source": [
    "to_csv = True\n",
    "\n",
    "os.makedirs('./data', exist_ok=True)\n",
    "os.makedirs('./data/master/', exist_ok=True)\n",
    "\n",
    "if to_csv:\n",
    "    nodes, edges = ox.graph_to_gdfs(graph)\n",
    "\n",
    "    nodes.to_csv(os.path.join('./data/master', city.split(', ')[0] + '_nodes.csv'), index=True)\n",
    "    edges.to_csv(os.path.join('./data/master', city.split(', ')[0] + '_edges.csv'), index=True)\n",
    "\n",
    "    pd.DataFrame(FMC).to_csv(os.path.join('./data/master', city.split(', ')[0] + '_FMC.csv'), index=False)\n",
    "    pd.DataFrame(MC).to_csv(os.path.join('./data/master', city.split(', ')[0] + '_MC.csv'), index=False)\n",
    "\n",
    "    edges = edges.reset_index().groupby(['u', 'v'], as_index=False).agg({'weight': 'min'}).rename(columns={'u': 'source', 'v': 'target'}, inplace=False)\n",
    "    nodes = nodes.reset_index().rename(columns={'osmid': 'id', 'service_type': 'label'}, inplace=False)[['id','label']]\n",
    "\n",
    "    nodes.to_csv(os.path.join('./data', city.split(', ')[0] + '_nodes.csv'), index=False)\n",
    "    edges.to_csv(os.path.join('./data', city.split(', ')[0] + '_edges.csv'), index=False)"
   ]
  },
  {
   "cell_type": "markdown",
   "metadata": {},
   "source": [
    "# Reload graph"
   ]
  },
  {
   "cell_type": "code",
   "execution_count": null,
   "metadata": {},
   "outputs": [],
   "source": [
    "edges_df = pd.read_csv('./min_city/data/edges.csv')\n",
    "nodes_df = pd.read_csv('./min_city/data/nodes.csv')"
   ]
  },
  {
   "cell_type": "code",
   "execution_count": null,
   "metadata": {},
   "outputs": [],
   "source": [
    "graph_df = nx.from_pandas_edgelist(edges_df, 'source', 'target', ['weight'], create_using=nx.MultiDiGraph())\n",
    "\n",
    "# Assuming your nodes_df has columns 'node', 'name', and 'gender'\n",
    "nx.set_node_attributes(graph_df, pd.Series(nodes_df['label'], index=nodes_df['id']).to_dict(), 'label')\n",
    "\n",
    "for node_id in graph_df.nodes():\n",
    "    graph_df.nodes[node_id]['label'] = nodes_df.loc[node_id, 'label']"
   ]
  },
  {
   "cell_type": "markdown",
   "metadata": {},
   "source": [
    "# DELETE"
   ]
  },
  {
   "cell_type": "code",
   "execution_count": 107,
   "metadata": {},
   "outputs": [],
   "source": [
    "FMC_Rust = set(pd.read_csv('./min_city/output.csv', header=None))"
   ]
  },
  {
   "cell_type": "code",
   "execution_count": 108,
   "metadata": {},
   "outputs": [],
   "source": [
    "node_c = ['w'] * len(graph.nodes)\n",
    "\n",
    "for u in FMC_Rust:\n",
    "    node_c[u] = 'r'\n",
    "\n",
    "for u in [u for _, v in service_nodes.items() for u in v]:\n",
    "    node_c[u] = 'b'\n",
    "\n",
    "edge_c = []\n",
    "\n",
    "for u, v in graph.edges():\n",
    "    if u in FMC_Rust and v in FMC_Rust:\n",
    "        edge_c.append('r')\n",
    "    else:\n",
    "        edge_c.append('k')"
   ]
  },
  {
   "cell_type": "code",
   "execution_count": 110,
   "metadata": {},
   "outputs": [
    {
     "data": {
      "text/plain": [
       "(<Figure size 8000x8000 with 1 Axes>, <Axes: >)"
      ]
     },
     "execution_count": 110,
     "metadata": {},
     "output_type": "execute_result"
    }
   ],
   "source": [
    "ox.plot_graph(graph, bgcolor='w', node_color=node_c, node_edgecolor='k', node_size=8, edge_color=edge_c, edge_linewidth=1, edge_alpha=1, figsize=(80,80), dpi=500, save=True, filepath=os.path.join('./images', city.split(', ')[0] + '_15_MC_nodes_Rust.png'), show=False, close=True)"
   ]
  },
  {
   "cell_type": "code",
   "execution_count": 111,
   "metadata": {},
   "outputs": [],
   "source": [
    "edge_c2 = []\n",
    "\n",
    "for u, v in graph.edges():\n",
    "    if u in FMC_Rust and v in FMC_Rust:\n",
    "        edge_c2.append('k')\n",
    "    else:\n",
    "        edge_c2.append('r')"
   ]
  },
  {
   "cell_type": "code",
   "execution_count": 112,
   "metadata": {},
   "outputs": [
    {
     "data": {
      "text/plain": [
       "(<Figure size 8000x8000 with 1 Axes>, <Axes: >)"
      ]
     },
     "execution_count": 112,
     "metadata": {},
     "output_type": "execute_result"
    }
   ],
   "source": [
    "ox.plot_graph(graph, bgcolor='w', node_size=0, edge_color=edge_c2, edge_linewidth=1, edge_alpha=1, figsize=(80,80), dpi=500, save=True, filepath=os.path.join('./images', city.split(', ')[0] + '_15_MC_Rust.png'), show=False, close=True)"
   ]
  },
  {
   "cell_type": "code",
   "execution_count": null,
   "metadata": {},
   "outputs": [],
   "source": []
  }
 ],
 "metadata": {
  "kernelspec": {
   "display_name": "Python 3",
   "language": "python",
   "name": "python3"
  },
  "language_info": {
   "codemirror_mode": {
    "name": "ipython",
    "version": 3
   },
   "file_extension": ".py",
   "mimetype": "text/x-python",
   "name": "python",
   "nbconvert_exporter": "python",
   "pygments_lexer": "ipython3",
   "version": "3.12.-1"
  }
 },
 "nbformat": 4,
 "nbformat_minor": 2
}
