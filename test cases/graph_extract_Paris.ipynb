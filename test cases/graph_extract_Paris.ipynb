{
 "cells": [
  {
   "cell_type": "markdown",
   "metadata": {},
   "source": [
    "https://geoffboeing.com/2016/11/osmnx-python-street-networks/"
   ]
  },
  {
   "cell_type": "code",
   "execution_count": 1,
   "metadata": {},
   "outputs": [],
   "source": [
    "%%capture\n",
    "\n",
    "import os, tqdm\n",
    "import pandas as pd\n",
    "import osmnx as ox\n",
    "import networkx as nx\n",
    "from shapely.geometry import Point, LineString\n",
    "from shapely.ops import nearest_points, transform\n",
    "import pyproj\n",
    "import heapq\n",
    "\n",
    "# Configure OSMnx\n",
    "ox.config(use_cache=True, log_console=True)"
   ]
  },
  {
   "cell_type": "code",
   "execution_count": 2,
   "metadata": {},
   "outputs": [],
   "source": [
    "walking_speed = 1.22 # m/s\n",
    "walking_speed = walking_speed * 60 # m/min"
   ]
  },
  {
   "cell_type": "code",
   "execution_count": 3,
   "metadata": {},
   "outputs": [],
   "source": [
    "city_boxes = {'Rome': (41.9952, 41.7882, 12.6281, 12.3644), # north, south, east, west\n",
    "              'Paris': (48.9085, 48.7947, 2.4321, 2.2467),\n",
    "              'London': (51.6792, 51.2473, 0.2774, -0.4944)}"
   ]
  },
  {
   "cell_type": "code",
   "execution_count": 4,
   "metadata": {},
   "outputs": [],
   "source": [
    "def get_subgraph(graph, bbox):\n",
    "\n",
    "    north, south, east, west = bbox\n",
    "\n",
    "    # List to hold nodes within the bbox\n",
    "    nodes_within_bbox = []\n",
    "\n",
    "    # Iterate over the nodes and their data in the graph\n",
    "    for node, data in graph.nodes(data=True):\n",
    "        # Check if the node is within the bbox\n",
    "        if south <= data['y'] <= north and west <= data['x'] <= east:\n",
    "            nodes_within_bbox.append(node)\n",
    "\n",
    "    # List to hold edges where at least one end is within the bbox\n",
    "    edges_within_bbox = []\n",
    "\n",
    "    # Iterate over the edges in the graph\n",
    "    for edge in graph.edges(keys=True,data=True):\n",
    "        # If either of the nodes of the edge is in the nodes_within_bbox list, add the edge\n",
    "        if edge[0] in nodes_within_bbox and edge[1] in nodes_within_bbox:\n",
    "            edges_within_bbox.append(edge)\n",
    "\n",
    "    # Create a subgraph with the edges within the bbox\n",
    "    return graph.edge_subgraph([edge[:3] for edge in edges_within_bbox]).copy()"
   ]
  },
  {
   "cell_type": "code",
   "execution_count": 5,
   "metadata": {},
   "outputs": [],
   "source": [
    "def explore(city, network_type, save):\n",
    "\n",
    "    global city_boxes\n",
    "\n",
    "    bbox = city_boxes[city.split(', ')[0]]\n",
    "\n",
    "    # graph = ox.graph_from_place(city, network_type=network_type, simplify=True, retain_all=True, truncate_by_edge=True)\n",
    "    # graph = ox.graph_from_point((45.39842, 11.87649), dist=150, network_type=network_type)\n",
    "    graph = ox.graph_from_bbox(bbox = bbox, network_type=network_type)\n",
    "\n",
    "    graph = ox.convert.to_undirected(graph)\n",
    "\n",
    "    sub_graph = get_subgraph(graph, bbox = bbox)\n",
    "\n",
    "    # Project graph\n",
    "    graph = ox.projection.project_graph(graph, to_crs=3035)\n",
    "\n",
    "    graph = ox.simplification.consolidate_intersections(\n",
    "        # Graph to simplify\n",
    "        graph,\n",
    "        # buffer around each node (project the graph beforehand)\n",
    "        tolerance=5,\n",
    "        # Get result as graph (False to get nodes only as gdf)\n",
    "        rebuild_graph=True,\n",
    "        # no dead ends\n",
    "        dead_ends=False,\n",
    "        # Reconnect (False to get intersections only)\n",
    "        reconnect_edges=True\n",
    "    )\n",
    "\n",
    "    if save:\n",
    "        ox.plot_graph(sub_graph, bgcolor='w', node_size = 0, node_edgecolor='k', save=True, filepath=os.path.join('./images', city.split(', ')[0] + '.png'))\n",
    "    else:\n",
    "        ox.plot_graph(sub_graph, bgcolor='w', node_size = 0, node_edgecolor='k')"
   ]
  },
  {
   "cell_type": "code",
   "execution_count": 6,
   "metadata": {},
   "outputs": [],
   "source": [
    "if False:\n",
    "    explore('Rome, Italy', 'all', True)"
   ]
  },
  {
   "cell_type": "code",
   "execution_count": 7,
   "metadata": {},
   "outputs": [],
   "source": [
    "city = 'Paris, France'\n",
    "network_type = 'all'"
   ]
  },
  {
   "cell_type": "code",
   "execution_count": 8,
   "metadata": {},
   "outputs": [],
   "source": [
    "bbox = city_boxes[city.split(', ')[0]]"
   ]
  },
  {
   "cell_type": "code",
   "execution_count": 9,
   "metadata": {},
   "outputs": [],
   "source": [
    "# graph = ox.graph_from_place(city, network_type=network_type, simplify=True, retain_all=True, truncate_by_edge=True)\n",
    "# graph = ox.graph_from_point((45.39842, 11.87649), dist=150, network_type=network_type)\n",
    "graph = ox.graph_from_bbox(bbox = bbox, network_type=network_type)\n",
    "\n",
    "# sub_graph = get_subgraph(graph, bbox = bbox)\n",
    "\n",
    "# Project graph\n",
    "graph = ox.projection.project_graph(graph, to_crs=3035)\n",
    "\n",
    "graph = ox.simplification.consolidate_intersections(\n",
    "    # Graph to simplify\n",
    "    graph,\n",
    "    # buffer around each node (project the graph beforehand)\n",
    "    tolerance=5,\n",
    "    # Get result as graph (False to get nodes only as gdf)\n",
    "    rebuild_graph=True,\n",
    "    # no dead ends\n",
    "    dead_ends=False,\n",
    "    # Reconnect (False to get intersections only)\n",
    "    reconnect_edges=True\n",
    ")\n",
    "\n",
    "graph = ox.convert.to_undirected(graph)"
   ]
  },
  {
   "cell_type": "code",
   "execution_count": 10,
   "metadata": {},
   "outputs": [],
   "source": [
    "%%capture\n",
    "# https://wiki.openstreetmap.org/wiki/Key:amenity?uselang=en-GB\n",
    "\n",
    "supermarket = ox.features.features_from_bbox(bbox = bbox, tags={'shop': ['supermarket','convenience']}).to_crs(epsg=3035)\n",
    "pharmacy = ox.features.features_from_bbox(bbox = bbox, tags={'amenity': 'pharmacy'}).to_crs(epsg=3035)\n",
    "cafe = ox.features.features_from_bbox(bbox = bbox, tags={'amenity': ['cafe', 'bar']}).to_crs(epsg=3035)\n",
    "\n",
    "unique_services = ['supermarket', 'cafe', 'pharmacy']"
   ]
  },
  {
   "cell_type": "code",
   "execution_count": 11,
   "metadata": {},
   "outputs": [
    {
     "name": "stdout",
     "output_type": "stream",
     "text": [
      "supermarket 2933\n",
      "cafe 4494\n",
      "pharmacy 1243\n"
     ]
    }
   ],
   "source": [
    "service_nodes = dict([(unique_services[i],[]) for i in range(len(unique_services))])\n",
    "\n",
    "_ = [print(k, len(eval(k))) for k, v in service_nodes.items()]"
   ]
  },
  {
   "cell_type": "code",
   "execution_count": 12,
   "metadata": {},
   "outputs": [],
   "source": [
    "# Define a function to insert a service node into the graph\n",
    "def insert_service_node(graph, service_type, service_lon, service_lat):\n",
    "    \n",
    "    # Find the nearest edge and get the geometry to the service location\n",
    "    u, v, key = ox.nearest_edges(graph, X=service_lon, Y=service_lat) # (u, v have x, y coordinates)\n",
    "\n",
    "    # Create a point for the service location\n",
    "    point = Point(service_lon, service_lat) # (lon, lat)\n",
    "\n",
    "    # If edge is not a straight line, i.e. contains a 'geometry'\n",
    "    try:\n",
    "        edge_geom = graph.edges[u, v, key]['geometry']\n",
    "        edge_weight = edge_geom.length\n",
    "        edge_weight_linear = (edge_geom.coords[0]).distance(edge_geom.coords[-1]) * 111320\n",
    "\n",
    "    except:\n",
    "        # Coordinates of the nearest_edges\n",
    "        edge_geom = LineString([(graph.nodes[u]['x'], graph.nodes[u]['y']),(graph.nodes[v]['x'], graph.nodes[v]['y'])])\n",
    "        edge_weight = edge_weight_linear = Point(graph.nodes[u]['x'], graph.nodes[u]['y']).distance(Point(graph.nodes[v]['x'], graph.nodes[v]['y'])) * 111320\n",
    "        # edge_weight = line_string_distance(edge_geom)\n",
    "        \n",
    "    # Calculate the closest point on the edge to the service location\n",
    "    closest_point_on_edge = nearest_points(edge_geom, point)[0] # (lon. lat)\n",
    "\n",
    "    # Ratio of first segment to total length\n",
    "    if closest_point_on_edge == Point(edge_geom.coords[0]):\n",
    "        graph.nodes[u]['service_type'] = service_type\n",
    "        return\n",
    "    elif closest_point_on_edge == Point(edge_geom.coords[-1]):\n",
    "        graph.nodes[v]['service_type'] = service_type\n",
    "        return\n",
    "\n",
    "    # Create new edges with the split geometries\n",
    "    edge_geom_1 = LineString([edge_geom.coords[0], (closest_point_on_edge.x, closest_point_on_edge.y)])\n",
    "    edge_geom_2 = LineString([(closest_point_on_edge.x, closest_point_on_edge.y), edge_geom.coords[-1]])\n",
    "\n",
    "    # Insert the new node into the graph\n",
    "    new_node_id = max(graph.nodes()) + 1  # or any unique ID\n",
    "    graph.add_node(new_node_id, x=closest_point_on_edge.x, y=closest_point_on_edge.y, service_type=service_type)\n",
    "\n",
    "    ratio_segment_1 = closest_point_on_edge.distance(Point(edge_geom.coords[0])) / edge_weight_linear\n",
    "\n",
    "    # Split weight based on ratio\n",
    "    # weight_segment_1 = line_string_distance(edge_geom_1)\n",
    "    # weight_segment_2 = line_string_distance(edge_geom_2)\n",
    "    weight_segment_1 = edge_weight * ratio_segment_1\n",
    "    weight_segment_2 = edge_weight * (1 - ratio_segment_1)\n",
    "\n",
    "    # # Remove the old edge and add the new edges\n",
    "    graph.remove_edge(u, v)\n",
    "    graph.add_edge(u, new_node_id, key=key, geometry=edge_geom_1, length=weight_segment_1)\n",
    "    graph.add_edge(new_node_id, v, key=key, geometry=edge_geom_2, length=weight_segment_2)\n",
    "\n",
    "    return new_node_id"
   ]
  },
  {
   "cell_type": "code",
   "execution_count": 13,
   "metadata": {},
   "outputs": [
    {
     "name": "stderr",
     "output_type": "stream",
     "text": [
      "  0%|          | 0/3 [00:00<?, ?it/s]/Users/Marco/.pyenv/versions/3.12.0/lib/python3.12/site-packages/shapely/linear.py:203: RuntimeWarning: invalid value encountered in shortest_line\n",
      "  return lib.shortest_line(a, b, **kwargs)\n",
      "/Users/Marco/.pyenv/versions/3.12.0/lib/python3.12/site-packages/shapely/linear.py:203: RuntimeWarning: invalid value encountered in shortest_line\n",
      "  return lib.shortest_line(a, b, **kwargs)\n",
      "/Users/Marco/.pyenv/versions/3.12.0/lib/python3.12/site-packages/shapely/linear.py:203: RuntimeWarning: invalid value encountered in shortest_line\n",
      "  return lib.shortest_line(a, b, **kwargs)\n",
      " 33%|███▎      | 1/3 [55:59<1:51:59, 3359.75s/it]/Users/Marco/.pyenv/versions/3.12.0/lib/python3.12/site-packages/shapely/linear.py:203: RuntimeWarning: invalid value encountered in shortest_line\n",
      "  return lib.shortest_line(a, b, **kwargs)\n",
      "/Users/Marco/.pyenv/versions/3.12.0/lib/python3.12/site-packages/shapely/linear.py:203: RuntimeWarning: invalid value encountered in shortest_line\n",
      "  return lib.shortest_line(a, b, **kwargs)\n",
      "/Users/Marco/.pyenv/versions/3.12.0/lib/python3.12/site-packages/shapely/linear.py:203: RuntimeWarning: invalid value encountered in shortest_line\n",
      "  return lib.shortest_line(a, b, **kwargs)\n",
      "/Users/Marco/.pyenv/versions/3.12.0/lib/python3.12/site-packages/shapely/linear.py:203: RuntimeWarning: invalid value encountered in shortest_line\n",
      "  return lib.shortest_line(a, b, **kwargs)\n",
      "/Users/Marco/.pyenv/versions/3.12.0/lib/python3.12/site-packages/shapely/linear.py:203: RuntimeWarning: invalid value encountered in shortest_line\n",
      "  return lib.shortest_line(a, b, **kwargs)\n",
      "100%|██████████| 3/3 [2:44:07<00:00, 3282.51s/it]  \n"
     ]
    }
   ],
   "source": [
    "# x = longitude, y = latitude\n",
    "\n",
    "for s in tqdm.tqdm(unique_services):\n",
    "    if 'node' in list(eval(s).index.get_level_values(0)):\n",
    "        for v in eval(s)['geometry']['node'].get_coordinates().iterrows():\n",
    "            node_id = insert_service_node(graph, s, v[1]['x'], v[1]['y'])\n",
    "            if node_id is not None:\n",
    "                service_nodes[s].append(node_id)\n",
    "    if 'way' in list(eval(s).index.get_level_values(0)):\n",
    "        for v in eval(s)['geometry']['way'].get_coordinates().groupby('osmid').agg('mean').iterrows():\n",
    "            node_id = insert_service_node(graph, s, v[1]['x'], v[1]['y'])\n",
    "            if node_id is not None:\n",
    "                service_nodes[s].append(node_id)"
   ]
  },
  {
   "cell_type": "code",
   "execution_count": 14,
   "metadata": {},
   "outputs": [],
   "source": [
    "# s = 'supermarkets'\n",
    "# if 'node' in list(eval(s).index.get_level_values(0)):\n",
    "#     for v in eval(s)['geometry']['node'].get_coordinates().iterrows():\n",
    "#         insert_service_node(graph, s, v[1]['x'], v[1]['y'])\n",
    "# if 'way' in list(eval(s).index.get_level_values(0)):\n",
    "#     for v in eval(s)['geometry']['way'].get_coordinates().groupby('osmid').agg('mean').iterrows():\n",
    "#         insert_service_node(graph, s, v[1]['x'], v[1]['y'])"
   ]
  },
  {
   "cell_type": "code",
   "execution_count": 15,
   "metadata": {},
   "outputs": [],
   "source": [
    "# %%capture\n",
    "\n",
    "# # for s in tqdm.tqdm(unique_services):\n",
    "# for s in tqdm.tqdm(['supermarkets', 'cafe']):\n",
    "#     if 'node' in list(eval(s).index.get_level_values(0)):\n",
    "#         for v in eval(s)['geometry']['node'].get_coordinates().iterrows():\n",
    "#             node_id = ox.nearest_nodes(graph, v[1]['x'], v[1]['y'])\n",
    "#             graph.nodes[node_id]['service_type'] = s\n",
    "#     if 'way' in list(eval(s).index.get_level_values(0)):\n",
    "#         for v in eval(s)['geometry']['way'].get_coordinates().groupby('osmid').agg('mean').iterrows():\n",
    "#             node_id = ox.nearest_nodes(graph, v[1]['x'], v[1]['y'])\n",
    "#             graph.nodes[node_id]['service_type'] = s"
   ]
  },
  {
   "cell_type": "code",
   "execution_count": 16,
   "metadata": {},
   "outputs": [],
   "source": [
    "for u, v, k, data in graph.edges(keys=True, data=True):\n",
    "    if 'geometry' in data:\n",
    "        data['weight'] = data['geometry'].length / walking_speed\n",
    "    else:\n",
    "        data['weight'] = data['length'] / walking_speed"
   ]
  },
  {
   "cell_type": "code",
   "execution_count": 17,
   "metadata": {},
   "outputs": [],
   "source": [
    "def custom_dijkstra(G, source, threshold):\n",
    "    # Initialize distances and visited set\n",
    "    distances = {node: float('inf') for node in G.nodes}\n",
    "    distances[source] = 0\n",
    "    visited = set()\n",
    "\n",
    "    # Priority queue (heap) to store nodes and their distances\n",
    "    pq = [(0, source)]\n",
    "\n",
    "    while pq:\n",
    "        current_distance, current_node = heapq.heappop(pq)\n",
    "\n",
    "        # Stop if all nodes within 15 have been visited\n",
    "        if current_distance > threshold:\n",
    "            break\n",
    "\n",
    "        if current_node not in visited:\n",
    "            visited.add(current_node)\n",
    "\n",
    "        for neighbor, edge_data in G[current_node].items():\n",
    "            weight = min([dict(edge_data)[k]['weight'] for k in dict(edge_data).keys()])\n",
    "            new_distance = current_distance + weight\n",
    "            if new_distance < distances[neighbor]:\n",
    "                distances[neighbor] = new_distance\n",
    "                heapq.heappush(pq, (new_distance, neighbor))\n",
    "\n",
    "    return visited"
   ]
  },
  {
   "cell_type": "markdown",
   "metadata": {},
   "source": [
    "# 15 MC"
   ]
  },
  {
   "cell_type": "code",
   "execution_count": 18,
   "metadata": {},
   "outputs": [
    {
     "name": "stdout",
     "output_type": "stream",
     "text": [
      "There are 57749 nodes in the 15 MC\n"
     ]
    }
   ],
   "source": [
    "FMC = set(graph.nodes())\n",
    "for idx, service_type in enumerate(unique_services):\n",
    "    new_node_id = max(graph.nodes) + idx + 1\n",
    "    graph.add_node(new_node_id) # create new node\n",
    "    graph.add_weighted_edges_from([(new_node_id, node, 0) for node in service_nodes[service_type]])\n",
    "    FMC_tmp = custom_dijkstra(graph, new_node_id, 15)\n",
    "    graph.remove_node(new_node_id)\n",
    "    FMC = FMC.intersection(FMC_tmp)\n",
    "print(f'There are {len(FMC)} nodes in the 15 MC')"
   ]
  },
  {
   "cell_type": "code",
   "execution_count": 19,
   "metadata": {},
   "outputs": [
    {
     "data": {
      "text/plain": [
       "59666"
      ]
     },
     "execution_count": 19,
     "metadata": {},
     "output_type": "execute_result"
    }
   ],
   "source": [
    "len(graph.nodes())"
   ]
  },
  {
   "cell_type": "code",
   "execution_count": 36,
   "metadata": {},
   "outputs": [],
   "source": [
    "node_c = ['w'] * len(graph.nodes)\n",
    "\n",
    "for u in FMC:\n",
    "    node_c[u] = 'r'\n",
    "\n",
    "for u in [u for _, v in service_nodes.items() for u in v]:\n",
    "    node_c[u] = 'b'"
   ]
  },
  {
   "cell_type": "code",
   "execution_count": 37,
   "metadata": {},
   "outputs": [],
   "source": [
    "edge_c = []\n",
    "\n",
    "for u, v in graph.edges():\n",
    "    if u in FMC and v in FMC:\n",
    "        edge_c.append('r')\n",
    "    else:\n",
    "        edge_c.append('k')"
   ]
  },
  {
   "cell_type": "code",
   "execution_count": 38,
   "metadata": {},
   "outputs": [
    {
     "data": {
      "text/plain": [
       "(<Figure size 8000x8000 with 1 Axes>, <Axes: >)"
      ]
     },
     "execution_count": 38,
     "metadata": {},
     "output_type": "execute_result"
    }
   ],
   "source": [
    "ox.plot_graph(graph, bgcolor='w', node_color=node_c, node_edgecolor='k', node_size=8, edge_color=edge_c, edge_linewidth=1, edge_alpha=1, figsize=(80,80), dpi=500, save=True, filepath=os.path.join('./images', city.split(', ')[0] + '_15_MC_nodes.png'), show=False, close=True)"
   ]
  },
  {
   "cell_type": "code",
   "execution_count": 41,
   "metadata": {},
   "outputs": [],
   "source": [
    "edge_c2 = []\n",
    "\n",
    "for u, v in graph.edges():\n",
    "    if u in FMC and v in FMC:\n",
    "        edge_c2.append('k')\n",
    "    else:\n",
    "        edge_c2.append('r')"
   ]
  },
  {
   "cell_type": "code",
   "execution_count": 42,
   "metadata": {},
   "outputs": [
    {
     "data": {
      "text/plain": [
       "(<Figure size 8000x8000 with 1 Axes>, <Axes: >)"
      ]
     },
     "execution_count": 42,
     "metadata": {},
     "output_type": "execute_result"
    }
   ],
   "source": [
    "ox.plot_graph(graph, bgcolor='w', node_size=0, edge_color=edge_c2, edge_linewidth=1, edge_alpha=1, figsize=(80,80), dpi=500, save=True, filepath=os.path.join('./images', city.split(', ')[0] + '_15_MC.png'), show=False, close=True)"
   ]
  },
  {
   "cell_type": "markdown",
   "metadata": {},
   "source": [
    "# 1-30 MC"
   ]
  },
  {
   "cell_type": "code",
   "execution_count": 24,
   "metadata": {},
   "outputs": [
    {
     "name": "stdout",
     "output_type": "stream",
     "text": [
      "There are 2783 nodes in the 1 MC\n",
      "There are 11770 nodes in the 2 MC\n",
      "There are 22154 nodes in the 3 MC\n",
      "There are 31062 nodes in the 4 MC\n",
      "There are 37962 nodes in the 5 MC\n",
      "There are 43314 nodes in the 6 MC\n",
      "There are 47413 nodes in the 7 MC\n",
      "There are 50497 nodes in the 8 MC\n",
      "There are 52573 nodes in the 9 MC\n",
      "There are 54047 nodes in the 10 MC\n",
      "There are 55182 nodes in the 11 MC\n",
      "There are 56090 nodes in the 12 MC\n",
      "There are 56847 nodes in the 13 MC\n",
      "There are 57363 nodes in the 14 MC\n",
      "There are 57749 nodes in the 15 MC\n",
      "There are 58033 nodes in the 16 MC\n",
      "There are 58253 nodes in the 17 MC\n",
      "There are 58421 nodes in the 18 MC\n",
      "There are 58568 nodes in the 19 MC\n",
      "There are 58719 nodes in the 20 MC\n",
      "There are 58874 nodes in the 21 MC\n",
      "There are 59008 nodes in the 22 MC\n",
      "There are 59102 nodes in the 23 MC\n",
      "There are 59183 nodes in the 24 MC\n",
      "There are 59267 nodes in the 25 MC\n",
      "There are 59338 nodes in the 26 MC\n",
      "There are 59387 nodes in the 27 MC\n",
      "There are 59424 nodes in the 28 MC\n",
      "There are 59460 nodes in the 29 MC\n",
      "There are 59487 nodes in the 30 MC\n"
     ]
    }
   ],
   "source": [
    "max_threshold = 30\n",
    "MC = [set(graph.nodes())] * max_threshold\n",
    "for i in range(max_threshold):\n",
    "    for idx, service_type in enumerate(unique_services):\n",
    "        new_node_id = max(graph.nodes) + idx + 1\n",
    "        graph.add_node(new_node_id) # create new node\n",
    "        graph.add_weighted_edges_from([(new_node_id, node, 0) for node in service_nodes[service_type]])\n",
    "        FMC_tmp = custom_dijkstra(graph, new_node_id, i+1)\n",
    "        graph.remove_node(new_node_id)\n",
    "        MC[i] = MC[i].intersection(FMC_tmp)\n",
    "    print(f'There are {len(MC[i])} nodes in the {i+1} MC')"
   ]
  },
  {
   "cell_type": "code",
   "execution_count": 32,
   "metadata": {},
   "outputs": [
    {
     "name": "stdout",
     "output_type": "stream",
     "text": [
      "There are 59666 nodes and 125985 edges in the graph\n"
     ]
    }
   ],
   "source": [
    "print(f'There are {len(graph)} nodes and {len(graph.edges())} edges in the graph')"
   ]
  },
  {
   "cell_type": "code",
   "execution_count": 26,
   "metadata": {},
   "outputs": [],
   "source": [
    "MC_unique = {key + 1: MC[key].difference(*MC[:key]) for key in range(max_threshold)}"
   ]
  },
  {
   "cell_type": "code",
   "execution_count": 27,
   "metadata": {},
   "outputs": [],
   "source": [
    "blues = ox.plot.get_colors(n=max_threshold, cmap=\"Blues\")"
   ]
  },
  {
   "cell_type": "code",
   "execution_count": 28,
   "metadata": {},
   "outputs": [],
   "source": [
    "node_cs = ['w'] * len(graph.nodes)\n",
    "\n",
    "for t in range(max_threshold - 1, -1, -1):\n",
    "    for u in MC[t]:\n",
    "        node_cs[u] = blues[max_threshold - t - 1]\n",
    "\n",
    "for u in [u for _, v in service_nodes.items() for u in v]:\n",
    "    node_cs[u] = 'r'"
   ]
  },
  {
   "cell_type": "code",
   "execution_count": 29,
   "metadata": {},
   "outputs": [
    {
     "data": {
      "text/plain": [
       "(<Figure size 8000x8000 with 1 Axes>, <Axes: >)"
      ]
     },
     "execution_count": 29,
     "metadata": {},
     "output_type": "execute_result"
    }
   ],
   "source": [
    "ox.plot_graph(graph, bgcolor='w', node_color=node_cs, node_edgecolor='k', node_size=8, edge_linewidth=1, edge_alpha=1, figsize=(80,80), dpi=500, save=True, filepath=os.path.join('./images', city.split(', ')[0] + '_multi_MC_nodes.png'), show=False, close=True)"
   ]
  },
  {
   "cell_type": "code",
   "execution_count": 30,
   "metadata": {},
   "outputs": [],
   "source": [
    "def find_key_of_value(d, number):\n",
    "    for key, values in d.items():\n",
    "        if number in values:\n",
    "            return key\n",
    "    return max(d.keys()) + 1\n",
    "\n",
    "# blues[max_threshold-1] darkest\n",
    "\n",
    "edge_cs = ['k'] * len(graph.edges())\n",
    "\n",
    "for i, (u, v) in enumerate(graph.edges()):\n",
    "    idx = max(find_key_of_value(MC_unique, u), find_key_of_value(MC_unique, v))\n",
    "    if idx <= max_threshold:\n",
    "        edge_cs[i] = blues[max_threshold-idx]\n",
    "    else:\n",
    "        edge_cs[i] = blues[0]"
   ]
  },
  {
   "cell_type": "code",
   "execution_count": 31,
   "metadata": {},
   "outputs": [
    {
     "data": {
      "text/plain": [
       "(<Figure size 8000x8000 with 1 Axes>, <Axes: >)"
      ]
     },
     "execution_count": 31,
     "metadata": {},
     "output_type": "execute_result"
    }
   ],
   "source": [
    "ox.plot_graph(graph, bgcolor='w', node_size=0, edge_color=edge_cs, edge_linewidth=1, edge_alpha=1, figsize=(80,80), dpi=500, save=True, filepath=os.path.join('./images', city.split(', ')[0] + '_multi_MC.png'), show=False, close=True)"
   ]
  },
  {
   "cell_type": "markdown",
   "metadata": {},
   "source": [
    "# Save data"
   ]
  },
  {
   "cell_type": "code",
   "execution_count": 33,
   "metadata": {},
   "outputs": [],
   "source": [
    "nodes, edges = ox.graph_to_gdfs(graph)"
   ]
  },
  {
   "cell_type": "code",
   "execution_count": 34,
   "metadata": {},
   "outputs": [],
   "source": [
    "os.makedirs('./min_city/data', exist_ok=True)\n",
    "nodes.to_csv(os.path.join('./min_city/data', city.split(', ')[0] + '_nodes.csv'), index=True)\n",
    "edges.to_csv(os.path.join('./min_city/data', city.split(', ')[0] + '_edges.csv'), index=True)"
   ]
  },
  {
   "cell_type": "code",
   "execution_count": 35,
   "metadata": {},
   "outputs": [],
   "source": [
    "pd.DataFrame(FMC).to_csv(os.path.join('./min_city/data', city.split(', ')[0] + '_FMC.csv'), index=False)\n",
    "pd.DataFrame(MC).to_csv(os.path.join('./min_city/data', city.split(', ')[0] + '_MC.csv'), index=False)"
   ]
  },
  {
   "cell_type": "markdown",
   "metadata": {},
   "source": [
    "# Reconstruct MultiDiGraph"
   ]
  },
  {
   "cell_type": "code",
   "execution_count": null,
   "metadata": {},
   "outputs": [],
   "source": [
    "# Assuming your edges_df has columns 'source', 'target', and 'weight'\n",
    "G = nx.from_pandas_edgelist(edges_df, 'source', 'target', ['weight'], create_using=nx.MultiDiGraph())\n",
    "\n",
    "# Assuming your nodes_df has columns 'node', 'name', and 'gender'\n",
    "nx.set_node_attributes(G, 'name', pd.Series(nodes_df['name'], index=nodes_df['node']).to_dict())\n",
    "nx.set_node_attributes(G, 'gender', pd.Series(nodes_df['gender'], index=nodes_df['node']).to_dict())\n",
    "\n",
    "for node_id in G.nodes():\n",
    "    G.nodes[node_id]['name'] = nodes_df.loc[node_id, 'name']\n",
    "    G.nodes[node_id]['gender'] = nodes_df.loc[node_id, 'gender']"
   ]
  }
 ],
 "metadata": {
  "kernelspec": {
   "display_name": "Python 3",
   "language": "python",
   "name": "python3"
  },
  "language_info": {
   "codemirror_mode": {
    "name": "ipython",
    "version": 3
   },
   "file_extension": ".py",
   "mimetype": "text/x-python",
   "name": "python",
   "nbconvert_exporter": "python",
   "pygments_lexer": "ipython3",
   "version": "3.12.0"
  }
 },
 "nbformat": 4,
 "nbformat_minor": 2
}
